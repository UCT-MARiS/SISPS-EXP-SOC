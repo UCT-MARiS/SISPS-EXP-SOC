{
 "cells": [
  {
   "cell_type": "code",
   "execution_count": 26,
   "metadata": {},
   "outputs": [],
   "source": [
    "import matplotlib\n",
    "import os\n",
    "\n",
    "matplotlib.use(\"pgf\")\n",
    "\n",
    "import matplotlib.pyplot as plt\n",
    "\n",
    "plt.rcParams.update(plt.rcParamsDefault)\n",
    "plt.rcParams.update(\n",
    "    {\n",
    "        \"pgf.texsystem\": \"pdflatex\",\n",
    "        \"text.usetex\": True,\n",
    "        \"pgf.rcfonts\": False,\n",
    "    }\n",
    ")\n",
    "\n",
    "latexSaveDir = \"../Plots/Latex\"\n",
    "os.makedirs(latexSaveDir, exist_ok=True)"
   ]
  },
  {
   "cell_type": "code",
   "execution_count": 27,
   "metadata": {},
   "outputs": [],
   "source": [
    "import Lib.eisImport as eisImport\n",
    "import Lib.eisPlot as eisPlot"
   ]
  },
  {
   "cell_type": "code",
   "execution_count": 28,
   "metadata": {},
   "outputs": [],
   "source": [
    "observationsFile = \"../Data/UCT AST9AH Measurements and Observations.xlsx\"\n",
    "eisObservations = eisImport.groupMeasurementsAndObservations(\n",
    "    eisImport.readMeasurementsAndObservations(observationsFile)\n",
    ")\n",
    "eisImport.inferObservationTestNames(eisObservations)"
   ]
  },
  {
   "cell_type": "code",
   "execution_count": 29,
   "metadata": {},
   "outputs": [],
   "source": [
    "from typing import Dict, Tuple\n",
    "import pandas as pd\n",
    "\n",
    "\n",
    "def plotEisTestTemperatureRanges(\n",
    "    eisObservations: Dict[str, Dict[str, pd.DataFrame]],\n",
    "    saveDir: str | None = None,\n",
    "    fileName: str | None = None,\n",
    "    figsize: Tuple[int, int] = (16, 32),\n",
    ") -> plt.Figure:\n",
    "    fig, ax = plt.subplots(\n",
    "        2,\n",
    "        1,\n",
    "        sharex=True,\n",
    "        figsize=figsize,\n",
    "        # squeeze=True,\n",
    "    )\n",
    "    fig.suptitle(\"EIS Test Temperatures\")\n",
    "    ax[0].set_title(\"Batch A\")\n",
    "    ax[1].set_title(\"Batch B\")\n",
    "    ax[0].grid(True)\n",
    "    ax[1].grid(True)\n",
    "\n",
    "    for batch in eisObservations:\n",
    "        axIndex = 0 if batch == \"A\" else 1\n",
    "        for temperature in eisObservations[batch]:\n",
    "            # Plot a bar chart of ranges \"Battery Min Temperature\" to \"Battery Max Temperature\"\n",
    "            for row in eisObservations[batch][temperature].iterrows():\n",
    "                try:\n",
    "                    minTemp = float(row[1][\"Battery Min Temperature\"])\n",
    "                    maxTemp = float(row[1][\"Battery Max Temperature\"])\n",
    "                except ValueError:\n",
    "                    continue\n",
    "\n",
    "                ax[axIndex].barh(\n",
    "                    y=row[1][\"Test\"],\n",
    "                    width=maxTemp - minTemp,\n",
    "                    left=minTemp,\n",
    "                )\n",
    "\n",
    "                if minTemp == maxTemp:\n",
    "                    # Special case for when minTemp == maxTemp, plot a single point\n",
    "                    ax[axIndex].scatter(\n",
    "                        x=minTemp,\n",
    "                        y=row[1][\"Test\"],\n",
    "                    )\n",
    "\n",
    "    if saveDir is not None:\n",
    "        os.makedirs(saveDir, exist_ok=True)\n",
    "        savePath = os.path.join(saveDir, fileName)\n",
    "        fig.savefig(savePath)\n",
    "\n",
    "    return fig"
   ]
  },
  {
   "cell_type": "code",
   "execution_count": 30,
   "metadata": {},
   "outputs": [],
   "source": [
    "temperatureRangeFig = plotEisTestTemperatureRanges(\n",
    "    eisObservations,\n",
    ")\n",
    "temperatureRangeFig.savefig(\n",
    "    os.path.join(latexSaveDir, \"eisTempRanges.pgf\"),\n",
    ")"
   ]
  }
 ],
 "metadata": {
  "kernelspec": {
   "display_name": "Python 3",
   "language": "python",
   "name": "python3"
  },
  "language_info": {
   "codemirror_mode": {
    "name": "ipython",
    "version": 3
   },
   "file_extension": ".py",
   "mimetype": "text/x-python",
   "name": "python",
   "nbconvert_exporter": "python",
   "pygments_lexer": "ipython3",
   "version": "3.11.8"
  }
 },
 "nbformat": 4,
 "nbformat_minor": 2
}
