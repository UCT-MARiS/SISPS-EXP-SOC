{
 "cells": [
  {
   "cell_type": "markdown",
   "metadata": {},
   "source": [
    "# SISPS-AST9AH-EIS\n",
    "\n",
    "Main root file for analysis of SISPS-AST9AH-EIS experiment.\n",
    "\n",
    "[Lawrence Stanton](mailto:lawrence.stanton@uct.ac.za)\n",
    "\n",
    "- _Began_ March 2024\n",
    "- _Revised_ June 2024\n"
   ]
  },
  {
   "cell_type": "markdown",
   "metadata": {},
   "source": [
    "## Top-Level Configuration\n",
    "\n",
    "Environmental configuration, including default properties for major packages used, and default naming variables.\n"
   ]
  },
  {
   "cell_type": "code",
   "execution_count": 1,
   "metadata": {},
   "outputs": [
    {
     "name": "stdout",
     "output_type": "stream",
     "text": [
      "Requirement already satisfied: matplotlib in /Users/lawrencestanton/GitHub/SISPS-AST9AH-EIS/.conda/lib/python3.12/site-packages (3.9.0)\n",
      "Requirement already satisfied: contourpy>=1.0.1 in /Users/lawrencestanton/GitHub/SISPS-AST9AH-EIS/.conda/lib/python3.12/site-packages (from matplotlib) (1.2.1)\n",
      "Requirement already satisfied: cycler>=0.10 in /Users/lawrencestanton/GitHub/SISPS-AST9AH-EIS/.conda/lib/python3.12/site-packages (from matplotlib) (0.12.1)\n",
      "Requirement already satisfied: fonttools>=4.22.0 in /Users/lawrencestanton/GitHub/SISPS-AST9AH-EIS/.conda/lib/python3.12/site-packages (from matplotlib) (4.53.0)\n",
      "Requirement already satisfied: kiwisolver>=1.3.1 in /Users/lawrencestanton/GitHub/SISPS-AST9AH-EIS/.conda/lib/python3.12/site-packages (from matplotlib) (1.4.5)\n",
      "Requirement already satisfied: numpy>=1.23 in /Users/lawrencestanton/GitHub/SISPS-AST9AH-EIS/.conda/lib/python3.12/site-packages (from matplotlib) (1.26.4)\n",
      "Requirement already satisfied: packaging>=20.0 in /Users/lawrencestanton/GitHub/SISPS-AST9AH-EIS/.conda/lib/python3.12/site-packages (from matplotlib) (24.0)\n",
      "Requirement already satisfied: pillow>=8 in /Users/lawrencestanton/GitHub/SISPS-AST9AH-EIS/.conda/lib/python3.12/site-packages (from matplotlib) (10.3.0)\n",
      "Requirement already satisfied: pyparsing>=2.3.1 in /Users/lawrencestanton/GitHub/SISPS-AST9AH-EIS/.conda/lib/python3.12/site-packages (from matplotlib) (3.1.2)\n",
      "Requirement already satisfied: python-dateutil>=2.7 in /Users/lawrencestanton/GitHub/SISPS-AST9AH-EIS/.conda/lib/python3.12/site-packages (from matplotlib) (2.9.0)\n",
      "Requirement already satisfied: six>=1.5 in /Users/lawrencestanton/GitHub/SISPS-AST9AH-EIS/.conda/lib/python3.12/site-packages (from python-dateutil>=2.7->matplotlib) (1.16.0)\n",
      "Note: you may need to restart the kernel to use updated packages.\n",
      "Requirement already satisfied: numpy in /Users/lawrencestanton/GitHub/SISPS-AST9AH-EIS/.conda/lib/python3.12/site-packages (1.26.4)\n",
      "Note: you may need to restart the kernel to use updated packages.\n",
      "Requirement already satisfied: pandas in /Users/lawrencestanton/GitHub/SISPS-AST9AH-EIS/.conda/lib/python3.12/site-packages (2.2.2)\n",
      "Requirement already satisfied: numpy>=1.26.0 in /Users/lawrencestanton/GitHub/SISPS-AST9AH-EIS/.conda/lib/python3.12/site-packages (from pandas) (1.26.4)\n",
      "Requirement already satisfied: python-dateutil>=2.8.2 in /Users/lawrencestanton/GitHub/SISPS-AST9AH-EIS/.conda/lib/python3.12/site-packages (from pandas) (2.9.0)\n",
      "Requirement already satisfied: pytz>=2020.1 in /Users/lawrencestanton/GitHub/SISPS-AST9AH-EIS/.conda/lib/python3.12/site-packages (from pandas) (2024.1)\n",
      "Requirement already satisfied: tzdata>=2022.7 in /Users/lawrencestanton/GitHub/SISPS-AST9AH-EIS/.conda/lib/python3.12/site-packages (from pandas) (2024.1)\n",
      "Requirement already satisfied: six>=1.5 in /Users/lawrencestanton/GitHub/SISPS-AST9AH-EIS/.conda/lib/python3.12/site-packages (from python-dateutil>=2.8.2->pandas) (1.16.0)\n",
      "Note: you may need to restart the kernel to use updated packages.\n",
      "System Version:3.12.3 | packaged by conda-forge | (main, Apr 15 2024, 18:50:49) [Clang 16.0.6 ]\n"
     ]
    }
   ],
   "source": [
    "%reset -f\n",
    "\n",
    "%pip install matplotlib\n",
    "%pip install numpy\n",
    "%pip install pandas\n",
    "\n",
    "import sys\n",
    "print(f\"System Version:{sys.version}\")"
   ]
  },
  {
   "cell_type": "code",
   "execution_count": 2,
   "metadata": {},
   "outputs": [],
   "source": [
    "import matplotlib.pyplot as plt\n",
    "\n",
    "# Modify default plotting style\n",
    "plt.style.use('dark_background')  # <--- comment toggle per visual preference\n",
    "\n",
    "plt.rcParams['figure.dpi'] = 300\n",
    "plt.rcParams['figure.figsize'] = (8, 5)\n",
    "%config InlineBackend.figure_formats = ['svg']\n",
    "\n",
    "nyquistRealAxisLabel = 'Real Impedance (mΩ)'\n",
    "nyquistImagAxisLabel = 'Imaginary Impedance (mΩ)'"
   ]
  },
  {
   "cell_type": "markdown",
   "metadata": {},
   "source": [
    "## Electrochemical Impedance Spectroscopy (EIS) Data Import\n"
   ]
  },
  {
   "cell_type": "code",
   "execution_count": 3,
   "metadata": {},
   "outputs": [],
   "source": [
    "from eisImport import findMainEisFiles, findAllEisFiles, readEisFiles\n",
    "\n",
    "eisDirectory = \"../Data/EIS\"\n",
    "eisMainFiles = findMainEisFiles(eisDirectory)\n",
    "eisRaw = readEisFiles(eisMainFiles)\n",
    "\n",
    "eisAllFiles = findAllEisFiles(eisDirectory)\n",
    "eisRawAll = readEisFiles(eisAllFiles)"
   ]
  },
  {
   "cell_type": "markdown",
   "metadata": {},
   "source": [
    "### Raw EIS Plots\n",
    "\n",
    "Plots all EIS spectra individually. This is useful for visual inspection of the raw data.\n",
    "\n",
    "Plots are saved under the `Plots` directory and are only generated once based on the existence of the target directories (which are not committed to the repository ala `.gitignore`). To regenerate the plots, delete the `Plots` directory and rerun this cell.\n"
   ]
  },
  {
   "cell_type": "code",
   "execution_count": 4,
   "metadata": {},
   "outputs": [],
   "source": [
    "import os\n",
    "from eisPlot import plotNyquist\n",
    "\n",
    "import concurrent.futures\n",
    "\n",
    "\n",
    "def plotIndividualNyquist(eisData, saveDir):\n",
    "    if os.path.exists(saveDir) == False:\n",
    "        with concurrent.futures.ThreadPoolExecutor() as executor:\n",
    "            for eis in eisData:\n",
    "                executor.submit(\n",
    "                    plotNyquist,\n",
    "                    {eis: eisData[eis]},\n",
    "                    saveDir=saveDir,\n",
    "                    scatter=True,\n",
    "                    transparent=True,\n",
    "                )\n",
    "\n",
    "\n",
    "rawMainSavePlotsDirectory = \"../Plots/EIS/Raw/Main\"\n",
    "rawAllSavePlotsDirectory = \"../Plots/EIS/Raw/All\"\n",
    "\n",
    "plotIndividualNyquist(eisRaw, rawMainSavePlotsDirectory)\n",
    "plotIndividualNyquist(eisRawAll, rawAllSavePlotsDirectory)"
   ]
  }
 ],
 "metadata": {
  "kernelspec": {
   "display_name": "base",
   "language": "python",
   "name": "python3"
  },
  "language_info": {
   "codemirror_mode": {
    "name": "ipython",
    "version": 3
   },
   "file_extension": ".py",
   "mimetype": "text/x-python",
   "name": "python",
   "nbconvert_exporter": "python",
   "pygments_lexer": "ipython3",
   "version": "3.12.3"
  }
 },
 "nbformat": 4,
 "nbformat_minor": 2
}
